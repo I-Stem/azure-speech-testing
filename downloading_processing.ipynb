{
 "cells": [
  {
   "cell_type": "markdown",
   "metadata": {},
   "source": [
    "#1 download audio and subtitles from youtube   'YOUTUBE DL' required\n",
    "#2 extracting audio chunks of desired duration and sentences from subtitle and audio file downloaded earlier\n",
    "#3 converting audio and subtitles to prescribed format 'SOX' required\n",
    "#4 creating transcription file"
   ]
  },
  {
   "cell_type": "code",
   "execution_count": 5,
   "metadata": {},
   "outputs": [],
   "source": [
    "#importing libraries\n",
    "import os  \n",
    "from pydub import AudioSegment\n",
    "import lxml\n",
    "from lxml import etree\n",
    "import urllib.request\n",
    "import re\n",
    "import os.path\n",
    "from os import path"
   ]
  },
  {
   "cell_type": "code",
   "execution_count": 4,
   "metadata": {},
   "outputs": [
    {
     "name": "stdout",
     "output_type": "stream",
     "text": [
      "Requirement already satisfied: pydub in /Library/Frameworks/Python.framework/Versions/3.7/lib/python3.7/site-packages (0.23.1)\n",
      "\u001b[33mYou are using pip version 19.0.3, however version 19.2.3 is available.\n",
      "You should consider upgrading via the 'pip install --upgrade pip' command.\u001b[0m\n",
      "Collecting lxml\n",
      "\u001b[?25l  Downloading https://files.pythonhosted.org/packages/bd/9f/6cda4672d3ad1aa4cf818ab8401a763787efba751c88aaf4b38fc8f923bb/lxml-4.4.1-cp37-cp37m-macosx_10_6_intel.macosx_10_9_intel.macosx_10_9_x86_64.macosx_10_10_intel.macosx_10_10_x86_64.whl (8.9MB)\n",
      "\u001b[K    100% |████████████████████████████████| 8.9MB 1.6MB/s ta 0:00:011\n",
      "\u001b[?25hInstalling collected packages: lxml\n",
      "Successfully installed lxml-4.4.1\n",
      "\u001b[33mYou are using pip version 19.0.3, however version 19.2.3 is available.\n",
      "You should consider upgrading via the 'pip install --upgrade pip' command.\u001b[0m\n"
     ]
    }
   ],
   "source": [
    "!pip3 install pydub\n",
    "!pip3 install lxml"
   ]
  },
  {
   "cell_type": "code",
   "execution_count": 16,
   "metadata": {},
   "outputs": [
    {
     "data": {
      "text/plain": [
       "<function posix.system(command)>"
      ]
     },
     "execution_count": 16,
     "metadata": {},
     "output_type": "execute_result"
    }
   ],
   "source": [
    "os.system"
   ]
  },
  {
   "cell_type": "code",
   "execution_count": 18,
   "metadata": {
    "scrolled": true
   },
   "outputs": [
    {
     "name": "stdout",
     "output_type": "stream",
     "text": [
      "downloaded\n"
     ]
    },
    {
     "ename": "FileNotFoundError",
     "evalue": "[Errno 2] No such file or directory: '/Users/anshul/Desktop/ISTEM/azure-speech-testin/videos/A_well_educated_mind_vs_a_well_formed_mind_Dr_Shashi_Tharoor_at_TEDxGateway_2013.en.vtt'",
     "output_type": "error",
     "traceback": [
      "\u001b[0;31m---------------------------------------------------------------------------\u001b[0m",
      "\u001b[0;31mFileNotFoundError\u001b[0m                         Traceback (most recent call last)",
      "\u001b[0;32m<ipython-input-18-3ac8e3ea8a99>\u001b[0m in \u001b[0;36m<module>\u001b[0;34m\u001b[0m\n\u001b[1;32m     25\u001b[0m     \u001b[0mvid\u001b[0m\u001b[0;34m=\u001b[0m\u001b[0mvideo_title\u001b[0m\u001b[0;34m\u001b[0m\u001b[0;34m\u001b[0m\u001b[0m\n\u001b[1;32m     26\u001b[0m     \u001b[0mvid\u001b[0m\u001b[0;34m=\u001b[0m\u001b[0mvid\u001b[0m\u001b[0;34m.\u001b[0m\u001b[0mreplace\u001b[0m\u001b[0;34m(\u001b[0m\u001b[0;34m'? | '\u001b[0m\u001b[0;34m,\u001b[0m\u001b[0;34m' _ '\u001b[0m\u001b[0;34m)\u001b[0m\u001b[0;34m.\u001b[0m\u001b[0mreplace\u001b[0m\u001b[0;34m(\u001b[0m\u001b[0;34m' | '\u001b[0m\u001b[0;34m,\u001b[0m\u001b[0;34m' _ '\u001b[0m\u001b[0;34m)\u001b[0m\u001b[0;34m\u001b[0m\u001b[0;34m\u001b[0m\u001b[0m\n\u001b[0;32m---> 27\u001b[0;31m     \u001b[0mw\u001b[0m\u001b[0;34m=\u001b[0m\u001b[0mopen\u001b[0m\u001b[0;34m(\u001b[0m\u001b[0mpath\u001b[0m\u001b[0;34m+\u001b[0m\u001b[0mvid\u001b[0m\u001b[0;34m+\u001b[0m\u001b[0;34m'.en.vtt'\u001b[0m\u001b[0;34m,\u001b[0m\u001b[0;34m'r'\u001b[0m\u001b[0;34m,\u001b[0m \u001b[0mencoding\u001b[0m\u001b[0;34m=\u001b[0m\u001b[0;34m\"utf8\"\u001b[0m\u001b[0;34m)\u001b[0m\u001b[0;34m\u001b[0m\u001b[0;34m\u001b[0m\u001b[0m\n\u001b[0m\u001b[1;32m     28\u001b[0m     \u001b[0mx\u001b[0m\u001b[0;34m=\u001b[0m\u001b[0mw\u001b[0m\u001b[0;34m.\u001b[0m\u001b[0mreadlines\u001b[0m\u001b[0;34m(\u001b[0m\u001b[0;34m)\u001b[0m\u001b[0;34m\u001b[0m\u001b[0;34m\u001b[0m\u001b[0m\n\u001b[1;32m     29\u001b[0m     \u001b[0mw\u001b[0m\u001b[0;34m.\u001b[0m\u001b[0mclose\u001b[0m\u001b[0;34m(\u001b[0m\u001b[0;34m)\u001b[0m\u001b[0;34m\u001b[0m\u001b[0;34m\u001b[0m\u001b[0m\n",
      "\u001b[0;31mFileNotFoundError\u001b[0m: [Errno 2] No such file or directory: '/Users/anshul/Desktop/ISTEM/azure-speech-testin/videos/A_well_educated_mind_vs_a_well_formed_mind_Dr_Shashi_Tharoor_at_TEDxGateway_2013.en.vtt'"
     ]
    }
   ],
   "source": [
    "import ssl\n",
    "#url_list is a list of url we want to work on\n",
    "url_list=['https://www.youtube.com/watch?v=kcW4ABcY3zI','https://www.youtube.com/watch?v=0NV1KdWRHck&list=WL&index=4&t=0s'\n",
    "         ]\n",
    "\n",
    "path='/Users/anshul/Desktop/ISTEM/azure-speech-testin/videos/'\n",
    "duration=180 #duration of audio chunks (sec)\n",
    "duration=duration*1000\n",
    "\n",
    "for url in url_list:\n",
    "    # downloading the audio and subtitle of a youtube video\n",
    "    gcontext = ssl.SSLContext()  # Only for gangstars\n",
    "    youtube = etree.HTML(urllib.request.urlopen(url,context=gcontext).read()) \n",
    "    video_title = ''.join(youtube.xpath(\"//span[@id='eow-title']/@title\")) #downloading the title from url\n",
    "    video_title=(re.sub(' +', ' ',re.sub(r'[^\\w\\s]','',video_title) )).replace(' ','_')\n",
    "    audio='youtube-dl --extract-audio --audio-format mp3 --output \"'+video_title+'.mp3\" '+url\n",
    "    subtitle='youtube-dl --write-sub --sub-lang en --skip-download --output \"'+video_title+'\" '+url\n",
    "    #downloading the audio from url\n",
    "    if not os.path.exists(path+video_title+'.mp3'):os.system(audio)\n",
    "    #downloading the audio from subtitle\n",
    "    if not os.path.exists(path+video_title+'.en.vtt'):os.system(subtitle)\n",
    "\n",
    "    print('downloaded')\n",
    "    # creating transcribed text and audio chunks\n",
    "    vid=video_title\n",
    "    vid=vid.replace('? | ',' _ ').replace(' | ',' _ ')\n",
    "    w=open(path+vid+'.en.vtt','r', encoding=\"utf8\")\n",
    "    x=w.readlines()\n",
    "    w.close()\n",
    "\n",
    "    #converting string of subtitle to time in ms\n",
    "    def time_in_ms(source):\n",
    "        q=(int)(source.split(\".\")[1])\n",
    "        source=source.split(\".\")[0]\n",
    "        tokens = source.split(\":\")\n",
    "        secondsToMs = int(tokens[2]) * 1000\n",
    "        minutesToMs = int(tokens[1]) * 60000\n",
    "        hoursToMs = int(tokens[0]) * 3600000\n",
    "        total = secondsToMs + minutesToMs + hoursToMs+q\n",
    "        return (total)\n",
    "\n",
    "    #parsing the subtitle file\n",
    "    time_ms=[]\n",
    "    sentence=[]\n",
    "    for count,ele in enumerate(x): \n",
    "        curr=''\n",
    "        if ele.startswith('00:'): #using 'OO:' to identify start of line of subtitle\n",
    "            time_ms.append(time_in_ms(ele[:12]))\n",
    "            count=count+1\n",
    "            while(x[count]!='\\n'):\n",
    "                curr=curr+' '+(x[count][:-1])\n",
    "                count=count+1\n",
    "            sentence.append(curr)   \n",
    "    time_ms = list(map(int, time_ms)) \n",
    "    len(time_ms)\n",
    "\n",
    "    #creating chunks from subtitle\n",
    "    text=[]\n",
    "    start=time_ms[0]\n",
    "    point=0\n",
    "    start_t=[]\n",
    "    for i,ele in enumerate(time_ms):\n",
    "        if ele-start >= duration:\n",
    "            end=time_ms[i-1]\n",
    "            st=''\n",
    "            while point<i-1:\n",
    "                st=st+sentence[point]\n",
    "                point=point+1\n",
    "            text.append(st)\n",
    "            start_t.append(start)\n",
    "            start=end\n",
    "            \n",
    "    print('slicing')\n",
    "    # slicing the audio and converting into desired format (.wav sampled at 16k Hz)               \n",
    "    start_t.append(end)\n",
    "    sound = AudioSegment.from_file(path+vid+'.mp3') \n",
    "    f= open(path+vid+\"_transcribed.txt\",\"w+\") #creating trancription file\n",
    "    for i in range(len(text)-1):\n",
    "        speech=sound[start_t[i]:start_t[i+1]]\n",
    "        name=vid+\"t\"+str(i)\n",
    "        speech.export(path+name+\".mp3\")\n",
    "        cmd=\"sox \"+path+name+\".mp3 -b 16 -e signed-integer -c 1 -r 16k -t wav \"+path+name+\".wav\"\n",
    "        os.system(cmd)\n",
    "        os.remove(path+name+\".mp3\")\n",
    "        tex=str((text[i].replace('’','\\'').replace('…','.')).encode('ascii',\"ignore\"))[2:-1] # text cleaning (microsoft described format)\n",
    "        f.write(str(i)+'\\t'+tex[1:]+'\\n')\n",
    "    f.close()"
   ]
  },
  {
   "cell_type": "code",
   "execution_count": null,
   "metadata": {},
   "outputs": [],
   "source": []
  }
 ],
 "metadata": {
  "kernelspec": {
   "display_name": "Python 3",
   "language": "python",
   "name": "python3"
  },
  "language_info": {
   "codemirror_mode": {
    "name": "ipython",
    "version": 3
   },
   "file_extension": ".py",
   "mimetype": "text/x-python",
   "name": "python",
   "nbconvert_exporter": "python",
   "pygments_lexer": "ipython3",
   "version": "3.7.3"
  }
 },
 "nbformat": 4,
 "nbformat_minor": 2
}
